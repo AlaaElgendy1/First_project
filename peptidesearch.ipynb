{
 "cells": [
  {
   "cell_type": "code",
   "execution_count": 1,
   "metadata": {},
   "outputs": [],
   "source": [
    "from urllib.request import urlretrieve\n",
    "from pyopenms import *\n",
    "gh = \"https://raw.githubusercontent.com/OpenMS/pyopenms-extra/master\"\n",
    "urlretrieve (gh +\"/src/data/SimpleSearchEngine_1.mzML\", \"searchfile.mzML\")\n",
    "urlretrieve (gh +\"/src/data/SimpleSearchEngine_1.fasta\", \"search.fasta\")\n",
    "protein_ids=[]\n",
    "peptide_ids=[]\n",
    "SimpleSearchEngineAlgorithm().search(\"searchfile.mzML\", \"search.fasta\", protein_ids ,peptide_ids)"
   ]
  },
  {
   "cell_type": "code",
   "execution_count": 3,
   "metadata": {},
   "outputs": [
    {
     "name": "stdout",
     "output_type": "stream",
     "text": [
      "===================================\n",
      "peptide ID m/z: 520.262817382812\n",
      "peptide ID rt: 2655.095703125\n",
      "peptide scan index 0\n",
      "peptide scan name 0\n",
      "peptide ID score type: hyperscore\n",
      "===================================\n",
      "peptide ID m/z: 1063.20983886719\n",
      "peptide ID rt: 4587.6689453125\n",
      "peptide scan index 1\n",
      "peptide scan name 1\n",
      "peptide ID score type: hyperscore\n",
      "===================================\n",
      "peptide ID m/z: 775.38720703125\n",
      "peptide ID rt: 4923.77734375\n",
      "peptide scan index 2\n",
      "peptide scan name 2\n",
      "peptide ID score type: hyperscore\n",
      "- peptide hit rank: 1\n",
      "- peptide hit charge: 3\n",
      "- Peptide hit sequence: RPGADSDIGGFGGLFDLAQAGFR\n",
      " - Peptide hit monoisotopic m/z: 775.3854614376374\n",
      " - Peptide ppm error: 2.2512591470542094\n",
      " - Peptide hit score: 34.93666076660156\n"
     ]
    }
   ],
   "source": [
    "for peptide_id in peptide_ids:\n",
    "    print(35*\"=\")\n",
    "    print(\"peptide ID m/z:\" , peptide_id.getMZ())\n",
    "    print(\"peptide ID rt:\" , peptide_id.getRT())\n",
    "    print(\"peptide scan index\" ,peptide_id.getMetaValue(\"scan_index\"))\n",
    "    print(\"peptide scan name\" ,peptide_id.getMetaValue(\"scan_index\"))\n",
    "    print(\"peptide ID score type:\" ,peptide_id.getScoreType())\n",
    "    \n",
    "for hit in peptide_id.getHits():\n",
    "    print(\"- peptide hit rank:\" , hit.getRank())\n",
    "    print(\"- peptide hit charge:\" , hit.getCharge())\n",
    "    print(\"- Peptide hit sequence:\", hit.getSequence())\n",
    "    mz = hit.getSequence().getMonoWeight(Residue.ResidueType.Full, hit.getCharge()) / hit.getCharge()\n",
    "    print(\" - Peptide hit monoisotopic m/z:\", mz)\n",
    "    print(\" - Peptide ppm error:\", abs(mz - peptide_id.getMZ())/mz *10**6 )\n",
    "    print(\" - Peptide hit score:\", hit.getScore())\n"
   ]
  },
  {
   "cell_type": "code",
   "execution_count": 11,
   "metadata": {},
   "outputs": [
    {
     "name": "stdout",
     "output_type": "stream",
     "text": [
      "b'y1+' 175.118952913371\n",
      "b'b2+' 254.161152072871\n",
      "b'b3+' 311.18261616857103\n",
      "b'y2+' 322.187367200471\n",
      "b'y3+' 379.208831296171\n",
      "b'b4+' 382.219730328071\n",
      "b'y4+' 450.245945455671\n",
      "b'b5+' 497.246674487571\n",
      "b'y5+' 578.304523710871\n",
      "b'b6+' 584.278703647071\n",
      "b'y6+' 649.341637870371\n",
      "b'b7+' 699.305647806571\n",
      "b'y7+' 762.425702221271\n",
      "b'b8+' 812.389712157471\n",
      "b'b9+' 869.411176253171\n",
      "b'y8+' 877.452646380771\n",
      "b'b10+' 926.432640348871\n",
      "b'y9+' 1024.5210606678709\n",
      "b'b11+' 1073.501054635971\n",
      "b'b12+' 1130.522518731671\n",
      "b'y10+' 1137.6051250187709\n",
      "b'b13+' 1187.5439828273709\n",
      "b'y11+' 1194.6265891144708\n",
      "b'y12+' 1251.6480532101707\n",
      "b'b14+' 1300.628047178271\n",
      "b'y13+' 1398.7164674972707\n",
      "b'b15+' 1447.696461465371\n",
      "b'y14+' 1455.7379315929707\n",
      "b'y15+' 1512.7593956886706\n",
      "b'b16+' 1562.723405624871\n",
      "b'y16+' 1625.8434600395706\n",
      "b'b17+' 1675.807469975771\n",
      "b'y17+' 1740.8704041990707\n",
      "b'b18+' 1746.844584135271\n",
      "b'y18+' 1827.9024333585708\n",
      "b'b19+' 1874.903162390471\n",
      "b'y19+' 1942.9293775180709\n",
      "b'b20+' 1945.9402765499708\n",
      "b'b21+' 2002.9617406456707\n",
      "b'y20+' 2013.9664916775707\n",
      "b'y21+' 2070.987955773271\n",
      "b'b22+' 2150.0301549327705\n",
      "b'y22+' 2168.040719996571\n",
      "spectrum native id spectrum=2\n",
      "877.4534301757812 mz 1753.01 int\n",
      "926.434326171875 mz 1639.3121 int\n",
      "1024.5223388671875 mz 2204.35 int\n",
      "1187.544189453125 mz 1774.3148 int\n"
     ]
    }
   ],
   "source": [
    "tsg= TheoreticalSpectrumGenerator()\n",
    "thspec = MSSpectrum()\n",
    "p= Param()\n",
    "p.setValue(\"add_metainfo\", \"true\")\n",
    "tsg.setParameters(p)\n",
    "peptide=AASequence.fromString(\"RPGADSDIGGFGGLFDLAQAGFR\")\n",
    "tsg.getSpectrum(thspec,peptide,1,1)\n",
    "\n",
    "for ion, peak in zip(thspec.getStringDataArrays()[0], thspec):\n",
    "    print(ion , peak.getMZ())\n",
    "    \n",
    "e = MSExperiment()\n",
    "MzMLFile().load(\"searchfile.mzML\" ,e)\n",
    "print(\"spectrum native id\", e[2].getNativeID())\n",
    "mz,i=e[2].get_peaks()\n",
    "peaks = [(mz,i) for mz,i in zip(mz,i) if i > 1500 and mz > 300]\n",
    "for peak in peaks:\n",
    "  print (peak[0], \"mz\", peak[1], \"int\")"
   ]
  },
  {
   "cell_type": "code",
   "execution_count": 17,
   "metadata": {},
   "outputs": [
    {
     "name": "stdout",
     "output_type": "stream",
     "text": [
      "[(b'enzyme', 'Trypsin'), (b'decoys', 'false'), (b'precursor:mass_tolerance', 10.0), (b'precursor:mass_tolerance_unit', 'ppm'), (b'precursor:min_charge', 2), (b'precursor:max_charge', 5), (b'precursor:isotopes', [0, 1]), (b'fragment:mass_tolerance', 10.0), (b'fragment:mass_tolerance_unit', 'ppm'), (b'modifications:fixed', [b'Carbamidomethyl (C)']), (b'modifications:variable', [b'Oxidation (M)']), (b'modifications:variable_max_per_peptide', 2), (b'annotate:PSM', [b'ALL']), (b'peptide:min_size', 7), (b'peptide:max_size', 40), (b'peptide:missed_cleavages', 1), (b'peptide:motif', ''), (b'report:top_hits', 1)]\n",
      "Found 3 peptides\n"
     ]
    }
   ],
   "source": [
    "salgo=SimpleSearchEngineAlgorithm()\n",
    "p=salgo.getDefaults()\n",
    "print(p.items())\n",
    "p[b'precursor:mass_tolerance']=4.0\n",
    "salgo.setParameters(p)\n",
    "\n",
    "protein_ids=[]\n",
    "peptide_ids=[]\n",
    "salgo.search(\"searchfile.mzML\", \"search.fasta\", protein_ids, peptide_ids)\n",
    "print(\"Found\" , len(peptide_ids), \"peptides\")"
   ]
  },
  {
   "cell_type": "code",
   "execution_count": 18,
   "metadata": {},
   "outputs": [
    {
     "ename": "RuntimeError",
     "evalue": "the file '../../src/data/18Protein_SoCe_Tr_detergents_trace.fasta' could not be found",
     "output_type": "error",
     "traceback": [
      "\u001b[1;31m---------------------------------------------------------------------------\u001b[0m",
      "\u001b[1;31mRuntimeError\u001b[0m                              Traceback (most recent call last)",
      "\u001b[1;32m<ipython-input-18-73e4477220b3>\u001b[0m in \u001b[0;36m<module>\u001b[1;34m\u001b[0m\n\u001b[0;32m      5\u001b[0m \u001b[0mtargets\u001b[0m \u001b[1;33m=\u001b[0m\u001b[0mlist\u001b[0m\u001b[1;33m(\u001b[0m\u001b[1;33m)\u001b[0m\u001b[1;33m\u001b[0m\u001b[1;33m\u001b[0m\u001b[0m\n\u001b[0;32m      6\u001b[0m \u001b[0mdecoys\u001b[0m \u001b[1;33m=\u001b[0m\u001b[0mlist\u001b[0m\u001b[1;33m(\u001b[0m\u001b[1;33m)\u001b[0m\u001b[1;33m\u001b[0m\u001b[1;33m\u001b[0m\u001b[0m\n\u001b[1;32m----> 7\u001b[1;33m \u001b[0mFASTAFile\u001b[0m\u001b[1;33m(\u001b[0m\u001b[1;33m)\u001b[0m\u001b[1;33m.\u001b[0m\u001b[0mload\u001b[0m\u001b[1;33m(\u001b[0m\u001b[0msearchdb\u001b[0m\u001b[1;33m,\u001b[0m \u001b[0mtargets\u001b[0m\u001b[1;33m)\u001b[0m\u001b[1;33m\u001b[0m\u001b[1;33m\u001b[0m\u001b[0m\n\u001b[0m\u001b[0;32m      8\u001b[0m \u001b[0mdecoy_generator\u001b[0m \u001b[1;33m=\u001b[0m \u001b[0mDecoyGenerator\u001b[0m\u001b[1;33m(\u001b[0m\u001b[1;33m)\u001b[0m\u001b[1;33m\u001b[0m\u001b[1;33m\u001b[0m\u001b[0m\n\u001b[0;32m      9\u001b[0m \u001b[1;32mfor\u001b[0m \u001b[0mentry\u001b[0m \u001b[1;32min\u001b[0m \u001b[0mtargets\u001b[0m\u001b[1;33m:\u001b[0m\u001b[1;33m\u001b[0m\u001b[1;33m\u001b[0m\u001b[0m\n",
      "\u001b[1;32mpyopenms\\pyopenms_3.pyx\u001b[0m in \u001b[0;36mpyopenms.pyopenms_3.FASTAFile.load\u001b[1;34m()\u001b[0m\n",
      "\u001b[1;31mRuntimeError\u001b[0m: the file '../../src/data/18Protein_SoCe_Tr_detergents_trace.fasta' could not be found"
     ]
    }
   ],
   "source": [
    "from urllib.request import urlretrieve\n",
    "searchfile = \"../../src/data/BSA1.mzML\"\n",
    "searchdb = \"../../src/data/18Protein_SoCe_Tr_detergents_trace.fasta\"\n",
    "\n",
    "targets =list()\n",
    "decoys =list()\n",
    "FASTAFile().load(searchdb, targets) \n",
    "decoy_generator = DecoyGenerator()\n",
    "for entry in targets:\n",
    "    rev_entry = FASTAEntry(entry) \n",
    "    rev_entry.identifier = \"DECOY_\" + rev_entry.identifier \n",
    "    aas = AASequence().fromString(rev_entry.sequence) \n",
    "    rev_entry.sequence = decoy_generator.reverseProtein(aas).toString() # reverse\n",
    "    decoys.append(rev_entry)\n",
    "\n",
    "target_decoy_database = \"search_td.fasta\"\n",
    "FASTAFile().store(target_decoy_database, targets + decoys) \n",
    "protein_ids =[]\n",
    "peptide_ids =[]\n",
    "\n",
    "simplesearch = SimpleSearchEngineAlgorithm()\n",
    "params = simplesearch.getDefaults()\n",
    "score_annot = [b'fragment_mz_error_median_ppm', b'precursor_mz_error_ppm']\n",
    "params.setValue(b'annotate:PSM', score_annot)\n",
    "params.setValue(b'peptide:max_size', 30)\n",
    "simplesearch.setParameters(params)\n",
    "\n",
    "simplesearch.search(searchfile, target_decoy_database, protein_ids, peptide_ids)\n",
    "\n",
    "FalseDiscoveryRate().apply(peptide_ids)\n",
    "\n",
    "idfilter = IDFilter()\n",
    "idfilter.filterHitsByScore(peptide_ids, 0.01)\n",
    "idfilter.removeDecoyHits(peptide_ids)\n",
    "\n",
    "IdXMLFile().store(\"searchfile_results_1perc_FDR.idXML\", protein_ids, peptide_ids)"
   ]
  },
  {
   "cell_type": "code",
   "execution_count": 20,
   "metadata": {},
   "outputs": [
    {
     "ename": "NameError",
     "evalue": "name 'SimpleSearch' is not defined",
     "output_type": "error",
     "traceback": [
      "\u001b[1;31m---------------------------------------------------------------------------\u001b[0m",
      "\u001b[1;31mNameError\u001b[0m                                 Traceback (most recent call last)",
      "\u001b[1;32m<ipython-input-20-84a72e6555dc>\u001b[0m in \u001b[0;36m<module>\u001b[1;34m\u001b[0m\n\u001b[0;32m      3\u001b[0m \u001b[1;33m\u001b[0m\u001b[0m\n\u001b[0;32m      4\u001b[0m \u001b[1;31m# Re-run search since we need to keep decoy hits for inference\u001b[0m\u001b[1;33m\u001b[0m\u001b[1;33m\u001b[0m\u001b[1;33m\u001b[0m\u001b[0m\n\u001b[1;32m----> 5\u001b[1;33m \u001b[0mSimpleSearch\u001b[0m\u001b[1;33m.\u001b[0m\u001b[0msearch\u001b[0m\u001b[1;33m(\u001b[0m\u001b[0msearchfile\u001b[0m\u001b[1;33m,\u001b[0m \u001b[0mtarget_decoy_database\u001b[0m\u001b[1;33m,\u001b[0m \u001b[0mprotein_ids\u001b[0m\u001b[1;33m,\u001b[0m \u001b[0mpeptide_ids\u001b[0m\u001b[1;33m)\u001b[0m\u001b[1;33m\u001b[0m\u001b[1;33m\u001b[0m\u001b[0m\n\u001b[0m\u001b[0;32m      6\u001b[0m \u001b[1;33m\u001b[0m\u001b[0m\n\u001b[0;32m      7\u001b[0m \u001b[1;31m# Run inference\u001b[0m\u001b[1;33m\u001b[0m\u001b[1;33m\u001b[0m\u001b[1;33m\u001b[0m\u001b[0m\n",
      "\u001b[1;31mNameError\u001b[0m: name 'SimpleSearch' is not defined"
     ]
    }
   ],
   "source": [
    "protein_ids = []\n",
    "peptide_ids = []\n",
    "\n",
    "# Re-run search since we need to keep decoy hits for inference\n",
    "simplesearch.search(searchfile, target_decoy_database, protein_ids, peptide_ids)\n",
    "\n",
    "# Run inference\n",
    "BasicProteinInferenceAlgorithm().run(peptide_ids, protein_ids)\n",
    "\n",
    "# Annotate q-value on protein level\n",
    "FalseDiscoveryRate().apply(protein_ids)\n",
    "\n",
    "# Filter by 1% protein FDR (q-value < 0.01)\n",
    "idfilter = IDFilter()\n",
    "idfilter.filterHitsByScore(protein_ids, 0.01)\n",
    "idfilter.removeDecoyHits(protein_ids)\n",
    "# Restore valid references into the proteins\n",
    "remove_peptides_without_reference = True\n",
    "idfilter.updateProteinReferences(peptide_ids, protein_ids, remove_peptides_without_reference)\n",
    "\n",
    "# store protein-FDR filtered\n",
    "IdXMLFile().store(\"searchfile_results_1perc_protFDR.idXML\", protein_ids, peptide_ids)"
   ]
  },
  {
   "cell_type": "code",
   "execution_count": null,
   "metadata": {},
   "outputs": [],
   "source": []
  }
 ],
 "metadata": {
  "kernelspec": {
   "display_name": "Python 3",
   "language": "python",
   "name": "python3"
  },
  "language_info": {
   "codemirror_mode": {
    "name": "ipython",
    "version": 3
   },
   "file_extension": ".py",
   "mimetype": "text/x-python",
   "name": "python",
   "nbconvert_exporter": "python",
   "pygments_lexer": "ipython3",
   "version": "3.8.5"
  }
 },
 "nbformat": 4,
 "nbformat_minor": 4
}
